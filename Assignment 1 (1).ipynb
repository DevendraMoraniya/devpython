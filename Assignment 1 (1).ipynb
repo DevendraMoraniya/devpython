{
 "cells": [
  {
   "cell_type": "code",
   "execution_count": 1,
   "metadata": {},
   "outputs": [
    {
     "name": "stdout",
     "output_type": "stream",
     "text": [
      "Enter a No.10\n",
      "            * \n",
      "           * * \n",
      "          * * * \n",
      "         * * * * \n",
      "        * * * * * \n",
      "       * * * * * * \n",
      "      * * * * * * * \n",
      "     * * * * * * * * \n",
      "    * * * * * * * * * \n",
      "   * * * * * * * * * * \n",
      "  * * * * * * * * * * * \n",
      "   * * * * * * * * * * \n",
      "    * * * * * * * * * \n",
      "     * * * * * * * * \n",
      "      * * * * * * * \n",
      "       * * * * * * \n",
      "        * * * * * \n",
      "         * * * * \n",
      "          * * * \n",
      "           * * \n",
      "            * \n"
     ]
    }
   ],
   "source": [
    "num=int(input(\"Enter a No.\"))\n",
    "for i in range(num):\n",
    "    print(\" \"*(num-i+1) , \"* \"*(i+1))\n",
    "for i in range(num,-1,-1):\n",
    "    print(\" \"*(num-i+1) , \"* \"*(i+1))\n",
    "\n"
   ]
  },
  {
   "cell_type": "code",
   "execution_count": 2,
   "metadata": {},
   "outputs": [
    {
     "name": "stdout",
     "output_type": "stream",
     "text": [
      "Enter a radius of sphere-6\n",
      "904.3199999999998\n"
     ]
    }
   ],
   "source": [
    "r=int(input(\"Enter a radius of sphere-\"))\n",
    "def volume(r):\n",
    "    v=4/3*3.14*r*r*r\n",
    "    print(v)\n",
    "volume(r)    "
   ]
  },
  {
   "cell_type": "code",
   "execution_count": 10,
   "metadata": {},
   "outputs": [
    {
     "name": "stdout",
     "output_type": "stream",
     "text": [
      "enter a full name:- devendra\n",
      "enter a surname:- moraniya\n",
      "ardnevedayinarom"
     ]
    }
   ],
   "source": [
    "name=str(input(\"enter a full name:- \"))\n",
    "surname=str(input(\"enter a surname:- \"))\n",
    "leng=len(name)\n",
    "surnam=len(surname)\n",
    "for i in range(leng-1,-1,-1):\n",
    "    print(name[i],end=\"\") \n",
    "for j in range(surnam-1,-1,-1):\n",
    "    print(surname[j],end=\"\")"
   ]
  },
  {
   "cell_type": "code",
   "execution_count": null,
   "metadata": {},
   "outputs": [],
   "source": []
  }
 ],
 "metadata": {
  "kernelspec": {
   "display_name": "Python 3",
   "language": "python",
   "name": "python3"
  },
  "language_info": {
   "codemirror_mode": {
    "name": "ipython",
    "version": 3
   },
   "file_extension": ".py",
   "mimetype": "text/x-python",
   "name": "python",
   "nbconvert_exporter": "python",
   "pygments_lexer": "ipython3",
   "version": "3.8.5"
  }
 },
 "nbformat": 4,
 "nbformat_minor": 4
}

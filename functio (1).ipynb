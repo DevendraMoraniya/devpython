{
 "cells": [
  {
   "cell_type": "code",
   "execution_count": 2,
   "metadata": {},
   "outputs": [
    {
     "name": "stdout",
     "output_type": "stream",
     "text": [
      "hello\n",
      "Good morning\n"
     ]
    }
   ],
   "source": [
    "def greet():\n",
    "    print(\"hello\")\n",
    "    print(\"Good morning\")\n",
    "    \n",
    "greet() \n"
   ]
  },
  {
   "cell_type": "code",
   "execution_count": 3,
   "metadata": {},
   "outputs": [
    {
     "name": "stdout",
     "output_type": "stream",
     "text": [
      "9\n"
     ]
    }
   ],
   "source": [
    "def add(x,y):\n",
    "    c=x+y\n",
    "    print(c)\n",
    "add(5,4)    \n",
    "    "
   ]
  },
  {
   "cell_type": "code",
   "execution_count": 4,
   "metadata": {},
   "outputs": [
    {
     "name": "stdout",
     "output_type": "stream",
     "text": [
      "9\n"
     ]
    }
   ],
   "source": [
    "def add(x,y):\n",
    "    c=x+y\n",
    "    return c\n",
    "result=add(5,4)\n",
    "print(result)"
   ]
  },
  {
   "cell_type": "code",
   "execution_count": 1,
   "metadata": {},
   "outputs": [
    {
     "name": "stdout",
     "output_type": "stream",
     "text": [
      "16\n"
     ]
    }
   ],
   "source": [
    "a=9\n",
    "b=7\n",
    "c=sum((a,b))\n",
    "print(c)"
   ]
  },
  {
   "cell_type": "code",
   "execution_count": 7,
   "metadata": {},
   "outputs": [
    {
     "name": "stdout",
     "output_type": "stream",
     "text": [
      "hello you are in function 1\n",
      "hello you are in function 1\n"
     ]
    }
   ],
   "source": [
    "def function1():\n",
    "    print(\"hello you are in function 1\")\n",
    "function1()\n",
    "function1()"
   ]
  },
  {
   "cell_type": "code",
   "execution_count": 9,
   "metadata": {},
   "outputs": [
    {
     "name": "stdout",
     "output_type": "stream",
     "text": [
      "hello you are in function1 12\n",
      "hello you are in function1 17\n"
     ]
    }
   ],
   "source": [
    "def function1(a,b):\n",
    "    print(\"hello you are in function1\",a+b)\n",
    "function1(5,7)\n",
    "function1(8,9)"
   ]
  },
  {
   "cell_type": "code",
   "execution_count": 12,
   "metadata": {},
   "outputs": [
    {
     "name": "stdout",
     "output_type": "stream",
     "text": [
      "6.0\n"
     ]
    }
   ],
   "source": [
    "def function2(a,b):\n",
    "    average=(a+b)/2\n",
    "    print(average)\n",
    "function2(5,7)  "
   ]
  },
  {
   "cell_type": "code",
   "execution_count": 14,
   "metadata": {},
   "outputs": [
    {
     "name": "stdout",
     "output_type": "stream",
     "text": [
      "6.0\n",
      "None\n"
     ]
    }
   ],
   "source": [
    "def function2(a,b):\n",
    "    average=(a+b)/2\n",
    "    print(average)\n",
    "v=function2(5,7)\n",
    "print(v)"
   ]
  },
  {
   "cell_type": "code",
   "execution_count": 15,
   "metadata": {},
   "outputs": [
    {
     "name": "stdout",
     "output_type": "stream",
     "text": [
      "6.0\n",
      "6.0\n"
     ]
    }
   ],
   "source": [
    "def function2(a,b):\n",
    "    average=(a+b)/2\n",
    "    print(average)\n",
    "    return average\n",
    "v=function2(5,7)\n",
    "print(v)"
   ]
  },
  {
   "cell_type": "code",
   "execution_count": 25,
   "metadata": {},
   "outputs": [
    {
     "name": "stdout",
     "output_type": "stream",
     "text": [
      "6.0\n",
      "6.0\n",
      "None\n"
     ]
    }
   ],
   "source": [
    "def function2(a,b):\n",
    "    ### This is  function which will calculate the average ###\n",
    "    average=(a+b)/2\n",
    "    print(average)\n",
    "    return average\n",
    "v=function2(5,7)\n",
    "print(v)\n",
    "print(function2.__doc__ )"
   ]
  },
  {
   "cell_type": "code",
   "execution_count": 3,
   "metadata": {},
   "outputs": [
    {
     "name": "stdout",
     "output_type": "stream",
     "text": [
      "5\n",
      "(6, 34, 78)\n"
     ]
    }
   ],
   "source": [
    "def sum(a,*b):\n",
    "    print(a)\n",
    "    print(b)\n",
    "sum(5,6,34,78)   \n",
    "    \n"
   ]
  },
  {
   "cell_type": "code",
   "execution_count": 4,
   "metadata": {},
   "outputs": [
    {
     "name": "stdout",
     "output_type": "stream",
     "text": [
      "123\n"
     ]
    }
   ],
   "source": [
    "def sum(a,*b):\n",
    "    c=a\n",
    "    for i in b:\n",
    "        c=c+i\n",
    "    print(c)\n",
    "    \n",
    "sum(5,6,34,78)   \n",
    "    "
   ]
  },
  {
   "cell_type": "code",
   "execution_count": 6,
   "metadata": {},
   "outputs": [
    {
     "name": "stdout",
     "output_type": "stream",
     "text": [
      "navin\n",
      "(28, 'Mumbai', 987654432)\n"
     ]
    }
   ],
   "source": [
    "def person(name,*data):\n",
    "    print(name)\n",
    "    print(data)\n",
    "person('navin',28,'Mumbai', 987654432)    \n",
    "   "
   ]
  },
  {
   "cell_type": "code",
   "execution_count": 7,
   "metadata": {},
   "outputs": [
    {
     "name": "stdout",
     "output_type": "stream",
     "text": [
      "navin\n",
      "{'age': 28, 'city': 'mumbai', 'mob': 9876543}\n"
     ]
    }
   ],
   "source": [
    "def person(name,**data):\n",
    "    print(name)\n",
    "    print(data)\n",
    "person('navin',age=28,city='mumbai',mob=9876543)"
   ]
  },
  {
   "cell_type": "code",
   "execution_count": 3,
   "metadata": {},
   "outputs": [
    {
     "name": "stdout",
     "output_type": "stream",
     "text": [
      "15\n",
      "10\n"
     ]
    }
   ],
   "source": [
    "a=10\n",
    "def some():\n",
    "    a=15\n",
    "    print(a)\n",
    "some()   \n",
    "print(a)\n"
   ]
  },
  {
   "cell_type": "code",
   "execution_count": 4,
   "metadata": {},
   "outputs": [
    {
     "name": "stdout",
     "output_type": "stream",
     "text": [
      "in fun 10\n",
      "out side 10\n"
     ]
    }
   ],
   "source": [
    "# Global variable can access inside variable as well\n",
    "a=10\n",
    "def some():\n",
    "    print(\"in fun\",a)\n",
    "some()\n",
    "print(\"out side\", a)"
   ]
  },
  {
   "cell_type": "code",
   "execution_count": 5,
   "metadata": {},
   "outputs": [
    {
     "name": "stdout",
     "output_type": "stream",
     "text": [
      "in fun 15\n",
      "out side 15\n"
     ]
    }
   ],
   "source": [
    "# my intention here use a global variable\n",
    "a=10\n",
    "def some():\n",
    "    global a\n",
    "    a=15\n",
    "    print(\"in fun\",a)\n",
    "some() \n",
    "print(\"out side\",a)"
   ]
  },
  {
   "cell_type": "code",
   "execution_count": 10,
   "metadata": {},
   "outputs": [
    {
     "name": "stdout",
     "output_type": "stream",
     "text": [
      "140729421277248\n",
      "in fun 15\n",
      "140729421277408\n",
      "out side 15\n"
     ]
    }
   ],
   "source": [
    "a=10\n",
    "print(id(a))\n",
    "def some():\n",
    "    global a\n",
    "    a=15\n",
    "    print(\"in fun\",a)\n",
    "some() \n",
    "print(id(a))\n",
    "print(\"out side\",a)"
   ]
  },
  {
   "cell_type": "code",
   "execution_count": 15,
   "metadata": {},
   "outputs": [
    {
     "name": "stdout",
     "output_type": "stream",
     "text": [
      "140729421277248\n",
      "140729421277248\n",
      "in fun 15\n",
      "10\n",
      "out side 10\n"
     ]
    }
   ],
   "source": [
    "a=10\n",
    "print(id(a))\n",
    "def some():\n",
    "    a=15\n",
    "    y=globals()['a']\n",
    "    print(id(y))\n",
    "    print(\"in fun\",a)\n",
    "    print(y)\n",
    "some() \n",
    "print(\"out side\",a)"
   ]
  },
  {
   "cell_type": "code",
   "execution_count": 16,
   "metadata": {},
   "outputs": [
    {
     "name": "stdout",
     "output_type": "stream",
     "text": [
      "140729421277248\n",
      "140729421277248\n",
      "infun 9\n"
     ]
    }
   ],
   "source": [
    "a=10\n",
    "print(id(a))\n",
    "def some():\n",
    "    a=9\n",
    "    y=globals()['a']\n",
    "    print(id(y))\n",
    "    print(\"infun\", a)\n",
    "some()   "
   ]
  },
  {
   "cell_type": "code",
   "execution_count": null,
   "metadata": {},
   "outputs": [],
   "source": []
  }
 ],
 "metadata": {
  "kernelspec": {
   "display_name": "Python 3",
   "language": "python",
   "name": "python3"
  },
  "language_info": {
   "codemirror_mode": {
    "name": "ipython",
    "version": 3
   },
   "file_extension": ".py",
   "mimetype": "text/x-python",
   "name": "python",
   "nbconvert_exporter": "python",
   "pygments_lexer": "ipython3",
   "version": "3.8.5"
  }
 },
 "nbformat": 4,
 "nbformat_minor": 4
}
